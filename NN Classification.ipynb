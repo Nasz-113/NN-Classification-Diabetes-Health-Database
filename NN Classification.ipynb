{
 "cells": [
  {
   "cell_type": "code",
   "execution_count": 14,
   "id": "20b6d6a9",
   "metadata": {},
   "outputs": [],
   "source": [
    "import pandas as pd\n",
    "import numpy as np\n",
    "import matplotlib.pyplot as plt\n",
    "import seaborn as sns\n",
    "from tensorflow import keras\n",
    "from tensorflow.keras import layers\n",
    "\n",
    "from sklearn.model_selection import train_test_split\n",
    "from sklearn.preprocessing import StandardScaler, OneHotEncoder\n",
    "from sklearn.impute import SimpleImputer"
   ]
  },
  {
   "cell_type": "code",
   "execution_count": 15,
   "id": "070c9bb1",
   "metadata": {},
   "outputs": [
    {
     "data": {
      "text/plain": [
       "(100000, 31)"
      ]
     },
     "execution_count": 15,
     "metadata": {},
     "output_type": "execute_result"
    }
   ],
   "source": [
    "diabetes = pd.read_csv('C:/Users/udin0/OneDrive/Documents/GitHub/NN-Classification-Diabetes-Health-Database/DiabetesDataset/diabetes_dataset.csv')\n",
    "\n",
    "diabetes.head(5)\n",
    "\n",
    "diabetes.shape"
   ]
  },
  {
   "cell_type": "code",
   "execution_count": 16,
   "id": "44312de8",
   "metadata": {},
   "outputs": [
    {
     "name": "stdout",
     "output_type": "stream",
     "text": [
      "False\n"
     ]
    }
   ],
   "source": [
    "# Check if there are any missing values at all\n",
    "print(diabetes.isna().any().any())\n",
    "\n",
    "# # See how many missing values per column\n",
    "# print(diabetes.isna().sum())\n",
    "\n",
    "# # Or show columns with missing values only\n",
    "# print(diabetes[diabetes.columns[diabetes.isna().any()]].isna().sum())"
   ]
  },
  {
   "cell_type": "code",
   "execution_count": 19,
   "id": "e5eb9d60",
   "metadata": {},
   "outputs": [
    {
     "data": {
      "text/plain": [
       "Index(['age', 'gender', 'ethnicity', 'education_level', 'income_level',\n",
       "       'employment_status', 'smoking_status', 'alcohol_consumption_per_week',\n",
       "       'physical_activity_minutes_per_week', 'diet_score',\n",
       "       'sleep_hours_per_day', 'screen_time_hours_per_day',\n",
       "       'family_history_diabetes', 'hypertension_history',\n",
       "       'cardiovascular_history', 'bmi', 'waist_to_hip_ratio', 'systolic_bp',\n",
       "       'diastolic_bp', 'heart_rate', 'cholesterol_total', 'hdl_cholesterol',\n",
       "       'ldl_cholesterol', 'triglycerides', 'glucose_fasting',\n",
       "       'glucose_postprandial', 'insulin_level', 'hba1c'],\n",
       "      dtype='object')"
      ]
     },
     "execution_count": 19,
     "metadata": {},
     "output_type": "execute_result"
    }
   ],
   "source": [
    "x = diabetes.drop(['diabetes_risk_score', 'diabetes_stage', 'diagnosed_diabetes'], axis=1)\n",
    "y_numerical = diabetes['diabetes_risk_score']\n",
    "y_binary = diabetes['diagnosed_diabetes']\n",
    "y_multiclass = diabetes['diabetes_stage']\n",
    "\n",
    "x.columns"
   ]
  }
 ],
 "metadata": {
  "kernelspec": {
   "display_name": "Python 3",
   "language": "python",
   "name": "python3"
  },
  "language_info": {
   "codemirror_mode": {
    "name": "ipython",
    "version": 3
   },
   "file_extension": ".py",
   "mimetype": "text/x-python",
   "name": "python",
   "nbconvert_exporter": "python",
   "pygments_lexer": "ipython3",
   "version": "3.12.2"
  }
 },
 "nbformat": 4,
 "nbformat_minor": 5
}
